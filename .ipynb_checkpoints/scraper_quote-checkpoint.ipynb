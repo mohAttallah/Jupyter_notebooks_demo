{
 "cells": [
  {
   "cell_type": "markdown",
   "id": "8eae27d2-97fc-4426-af12-673783a38813",
   "metadata": {},
   "source": [
    "### Import"
   ]
  },
  {
   "cell_type": "code",
   "execution_count": 1,
   "id": "b30e8a3a-06bc-48fb-9164-2000696082f1",
   "metadata": {},
   "outputs": [],
   "source": [
    "from bs4 import BeautifulSoup\n",
    "import requests\n",
    "import csv\n",
    "\n"
   ]
  },
  {
   "cell_type": "code",
   "execution_count": 2,
   "id": "b895b81e",
   "metadata": {},
   "outputs": [],
   "source": [
    "page_to_scrape=requests.get(\"https://quotes.toscrape.com/\")\n",
    "soup = BeautifulSoup(page_to_scrape.text, \"html.parser\")"
   ]
  },
  {
   "cell_type": "markdown",
   "id": "253f4b46-95f2-4b5b-887b-480273771cca",
   "metadata": {},
   "source": [
    "### Get Data"
   ]
  },
  {
   "cell_type": "code",
   "execution_count": 3,
   "id": "95d85f19-74af-451d-a571-ae7fa8702109",
   "metadata": {},
   "outputs": [],
   "source": [
    "quotes = soup.findAll(\"span\", attrs={\"class\":\"text\"})\n",
    "authors= soup.findAll(\"small\", attrs={\"class\":\"author\"} )"
   ]
  },
  {
   "cell_type": "markdown",
   "id": "259904e2-984f-44fa-a3cb-63bc3a72e6b0",
   "metadata": {},
   "source": [
    "### Save the data to csv"
   ]
  },
  {
   "cell_type": "code",
   "execution_count": 4,
   "id": "56ef4374-4178-4036-9b37-20816ec83ce1",
   "metadata": {},
   "outputs": [
    {
     "name": "stdout",
     "output_type": "stream",
     "text": [
      "Albert Einstein _ “The world as we have created it is a process of our thinking. It cannot be changed without changing our thinking.”\n",
      "J.K. Rowling _ “It is our choices, Harry, that show what we truly are, far more than our abilities.”\n",
      "Albert Einstein _ “There are only two ways to live your life. One is as though nothing is a miracle. The other is as though everything is a miracle.”\n",
      "Jane Austen _ “The person, be it gentleman or lady, who has not pleasure in a good novel, must be intolerably stupid.”\n",
      "Marilyn Monroe _ “Imperfection is beauty, madness is genius and it's better to be absolutely ridiculous than absolutely boring.”\n",
      "Albert Einstein _ “Try not to become a man of success. Rather become a man of value.”\n",
      "André Gide _ “It is better to be hated for what you are than to be loved for what you are not.”\n",
      "Thomas A. Edison _ “I have not failed. I've just found 10,000 ways that won't work.”\n",
      "Eleanor Roosevelt _ “A woman is like a tea bag; you never know how strong it is until it's in hot water.”\n",
      "Steve Martin _ “A day without sunshine is like, you know, night.”\n"
     ]
    }
   ],
   "source": [
    "for quote,author in zip(authors, quotes):\n",
    "    print(quote.text+\" _ \"+author.text);"
   ]
  },
  {
   "cell_type": "code",
   "execution_count": 5,
   "id": "f8e06d61-1190-4899-8d24-73ca40b78100",
   "metadata": {},
   "outputs": [],
   "source": [
    "with open('scraper_write.csv', 'w', newline='') as file:\n",
    "    writer = csv.writer(file)\n",
    "\n",
    "    # Write header row\n",
    "    writer.writerow([\"QUOTE\", \"AUTHOR\"])\n",
    "\n",
    "    # Write data rows\n",
    "    for quote, author in zip(quotes, authors):\n",
    "        writer.writerow([quote.text.strip(), author.text.strip()])  # Writing quote and author to CSV\n"
   ]
  },
  {
   "cell_type": "code",
   "execution_count": null,
   "id": "a20f443d-114f-4e7f-b06b-26064eb147aa",
   "metadata": {},
   "outputs": [],
   "source": []
  },
  {
   "cell_type": "code",
   "execution_count": null,
   "id": "8b2d2a7e-b23e-4a86-9acf-b7e72e9a582b",
   "metadata": {},
   "outputs": [],
   "source": []
  }
 ],
 "metadata": {
  "kernelspec": {
   "display_name": "Python 3 (ipykernel)",
   "language": "python",
   "name": "python3"
  },
  "language_info": {
   "codemirror_mode": {
    "name": "ipython",
    "version": 3
   },
   "file_extension": ".py",
   "mimetype": "text/x-python",
   "name": "python",
   "nbconvert_exporter": "python",
   "pygments_lexer": "ipython3",
   "version": "3.11.7"
  }
 },
 "nbformat": 4,
 "nbformat_minor": 5
}
