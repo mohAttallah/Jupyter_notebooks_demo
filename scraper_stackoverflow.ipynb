{
 "cells": [
  {
   "cell_type": "code",
   "execution_count": 5,
   "metadata": {},
   "outputs": [
    {
     "name": "stdout",
     "output_type": "stream",
     "text": [
      "\n",
      "SumatraPDF is a light and fast PDF viewer.\n",
      "One can control SumatraPDF with DDE commands.\n",
      "https://www.sumatrapdfreader.org/docs/DDE-Commands.\n",
      "I would like to use VBA to control SumatraPDF.\n",
      "And here is a demo from Microsoft for DDE application.\n",
      "https://learn.microsoft.com/en-us/office/vba/api/excel.application.ddeinitiate\n",
      "I tested it in Excel VBA (64bit).\n",
      "The error message always says Type mismatch for the line Application.DDEExecute channelNumber, \"[FILEPRINT]\".\n",
      "I think I need to convert longPtr type channelNumber  to long type.\n",
      "Could you help  to point it out how to do this? Thanks.\n",
      "** Demo script for DDE**\n",
      "Sub testdde()\n",
      "Dim channelNumber As LongPtr\n",
      "channelNumber = Application.DDEInitiate( _\n",
      " app:=\"WinWord\", _\n",
      " topic:=\"C:\\WINWORD\\FORMLETR.DOC\")\n",
      "Application.DDEExecute channelNumber, \"[FILEPRINT]\"\n",
      "Application.DDETerminate channelNumber\n",
      "End Sub\n",
      "\n",
      "\n"
     ]
    }
   ],
   "source": [
    "### Import\n",
    "from bs4 import BeautifulSoup\n",
    "import requests\n",
    "import csv\n",
    "\n",
    "\n",
    "page_to_scrape=requests.get(\"https://stackoverflow.com/questions/77971634/how-to-send-dde-dynamic-data-exchange-information-using-vba-64-bit\")\n",
    "\n",
    "soup = BeautifulSoup(page_to_scrape.text, \"html.parser\")\n",
    "### Get Data\n",
    "quastions = soup.findAll(\"div\", attrs={\"class\":\"s-prose js-post-body\"})\n",
    "### Save the data to csv\n",
    "for quastion in quastions:\n",
    "    print(quastion.text)\n",
    "\n",
    "\n",
    "\n"
   ]
  }
 ],
 "metadata": {
  "kernelspec": {
   "display_name": "Python 3 (ipykernel)",
   "language": "python",
   "name": "python3"
  },
  "language_info": {
   "codemirror_mode": {
    "name": "ipython",
    "version": 3
   },
   "file_extension": ".py",
   "mimetype": "text/x-python",
   "name": "python",
   "nbconvert_exporter": "python",
   "pygments_lexer": "ipython3",
   "version": "3.11.7"
  }
 },
 "nbformat": 4,
 "nbformat_minor": 2
}
